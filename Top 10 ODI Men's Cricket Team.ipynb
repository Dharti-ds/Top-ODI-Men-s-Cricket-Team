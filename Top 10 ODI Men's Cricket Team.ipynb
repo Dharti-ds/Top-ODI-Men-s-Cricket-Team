{
 "cells": [
  {
   "cell_type": "code",
   "execution_count": 22,
   "id": "87764695",
   "metadata": {},
   "outputs": [],
   "source": [
    "from bs4 import BeautifulSoup\n",
    "import requests\n",
    "import pandas as pd\n",
    "import re"
   ]
  },
  {
   "cell_type": "code",
   "execution_count": 23,
   "id": "753bc858",
   "metadata": {},
   "outputs": [
    {
     "data": {
      "text/plain": [
       "<Response [200]>"
      ]
     },
     "execution_count": 23,
     "metadata": {},
     "output_type": "execute_result"
    }
   ],
   "source": [
    "page=requests.get(\"https://www.icc-cricket.com/rankings/mens/team-rankings/odi\")\n",
    "page"
   ]
  },
  {
   "cell_type": "code",
   "execution_count": 24,
   "id": "d248df2e",
   "metadata": {},
   "outputs": [],
   "source": [
    "soup=BeautifulSoup(page.text,'lxml')"
   ]
  },
  {
   "cell_type": "code",
   "execution_count": 25,
   "id": "bb182d4a",
   "metadata": {},
   "outputs": [],
   "source": [
    "table_body=soup.find('table')\n",
    "row_data=[]"
   ]
  },
  {
   "cell_type": "code",
   "execution_count": 33,
   "id": "339f9424",
   "metadata": {
    "scrolled": false
   },
   "outputs": [
    {
     "data": {
      "text/html": [
       "<div>\n",
       "<style scoped>\n",
       "    .dataframe tbody tr th:only-of-type {\n",
       "        vertical-align: middle;\n",
       "    }\n",
       "\n",
       "    .dataframe tbody tr th {\n",
       "        vertical-align: top;\n",
       "    }\n",
       "\n",
       "    .dataframe thead th {\n",
       "        text-align: right;\n",
       "    }\n",
       "</style>\n",
       "<table border=\"1\" class=\"dataframe\">\n",
       "  <thead>\n",
       "    <tr style=\"text-align: right;\">\n",
       "      <th></th>\n",
       "      <th>pos</th>\n",
       "      <th>team\\nt</th>\n",
       "      <th>matches\\nm</th>\n",
       "      <th>points\\np</th>\n",
       "      <th>rating\\nr</th>\n",
       "    </tr>\n",
       "  </thead>\n",
       "  <tbody>\n",
       "    <tr>\n",
       "      <th>0</th>\n",
       "      <td>None</td>\n",
       "      <td>None</td>\n",
       "      <td>None</td>\n",
       "      <td>None</td>\n",
       "      <td>None</td>\n",
       "    </tr>\n",
       "    <tr>\n",
       "      <th>1</th>\n",
       "      <td>1</td>\n",
       "      <td>New Zealand\\nNZ</td>\n",
       "      <td>20</td>\n",
       "      <td>2,448</td>\n",
       "      <td>122</td>\n",
       "    </tr>\n",
       "    <tr>\n",
       "      <th>2</th>\n",
       "      <td>2</td>\n",
       "      <td>England\\nENG</td>\n",
       "      <td>32</td>\n",
       "      <td>3,793</td>\n",
       "      <td>119</td>\n",
       "    </tr>\n",
       "    <tr>\n",
       "      <th>3</th>\n",
       "      <td>3</td>\n",
       "      <td>Australia\\nAUS</td>\n",
       "      <td>31</td>\n",
       "      <td>3,475</td>\n",
       "      <td>112</td>\n",
       "    </tr>\n",
       "    <tr>\n",
       "      <th>4</th>\n",
       "      <td>4</td>\n",
       "      <td>India\\nIND</td>\n",
       "      <td>38</td>\n",
       "      <td>4,162</td>\n",
       "      <td>110</td>\n",
       "    </tr>\n",
       "    <tr>\n",
       "      <th>...</th>\n",
       "      <td>...</td>\n",
       "      <td>...</td>\n",
       "      <td>...</td>\n",
       "      <td>...</td>\n",
       "      <td>...</td>\n",
       "    </tr>\n",
       "    <tr>\n",
       "      <th>58</th>\n",
       "      <td>16</td>\n",
       "      <td>Oman\\nOMA</td>\n",
       "      <td>27</td>\n",
       "      <td>777</td>\n",
       "      <td>29</td>\n",
       "    </tr>\n",
       "    <tr>\n",
       "      <th>59</th>\n",
       "      <td>17</td>\n",
       "      <td>Namibia\\nNAM</td>\n",
       "      <td>13</td>\n",
       "      <td>268</td>\n",
       "      <td>21</td>\n",
       "    </tr>\n",
       "    <tr>\n",
       "      <th>60</th>\n",
       "      <td>18</td>\n",
       "      <td>Nepal\\nNEP</td>\n",
       "      <td>17</td>\n",
       "      <td>308</td>\n",
       "      <td>18</td>\n",
       "    </tr>\n",
       "    <tr>\n",
       "      <th>61</th>\n",
       "      <td>19</td>\n",
       "      <td>United States\\nUSA</td>\n",
       "      <td>14</td>\n",
       "      <td>232</td>\n",
       "      <td>17</td>\n",
       "    </tr>\n",
       "    <tr>\n",
       "      <th>62</th>\n",
       "      <td>20</td>\n",
       "      <td>Papua New Guinea\\nPNG</td>\n",
       "      <td>23</td>\n",
       "      <td>178</td>\n",
       "      <td>8</td>\n",
       "    </tr>\n",
       "  </tbody>\n",
       "</table>\n",
       "<p>63 rows × 5 columns</p>\n",
       "</div>"
      ],
      "text/plain": [
       "     pos                team\\nt matches\\nm points\\np rating\\nr\n",
       "0   None                   None       None      None      None\n",
       "1      1        New Zealand\\nNZ         20     2,448       122\n",
       "2      2           England\\nENG         32     3,793       119\n",
       "3      3         Australia\\nAUS         31     3,475       112\n",
       "4      4             India\\nIND         38     4,162       110\n",
       "..   ...                    ...        ...       ...       ...\n",
       "58    16              Oman\\nOMA         27       777        29\n",
       "59    17           Namibia\\nNAM         13       268        21\n",
       "60    18             Nepal\\nNEP         17       308        18\n",
       "61    19     United States\\nUSA         14       232        17\n",
       "62    20  Papua New Guinea\\nPNG         23       178         8\n",
       "\n",
       "[63 rows x 5 columns]"
      ]
     },
     "execution_count": 33,
     "metadata": {},
     "output_type": "execute_result"
    }
   ],
   "source": [
    "for row in table_body.find_all('tr'):\n",
    "    col=row.find_all('td')\n",
    "    col=[ele.text.strip()for ele in col]\n",
    "    row_data.append(col)\n",
    "df=pd.DataFrame(row_data)\n",
    "df\n",
    "header=[]\n",
    "for i in soup.find_all(\"th\"):\n",
    "    col_name=i.text.strip().lower().replace(\" \",\"_\")\n",
    "    header.append(col_name)\n",
    "results=pd.DataFrame(row_data,columns = header)\n",
    "results"
   ]
  }
 ],
 "metadata": {
  "kernelspec": {
   "display_name": "Python 3 (ipykernel)",
   "language": "python",
   "name": "python3"
  },
  "language_info": {
   "codemirror_mode": {
    "name": "ipython",
    "version": 3
   },
   "file_extension": ".py",
   "mimetype": "text/x-python",
   "name": "python",
   "nbconvert_exporter": "python",
   "pygments_lexer": "ipython3",
   "version": "3.9.7"
  }
 },
 "nbformat": 4,
 "nbformat_minor": 5
}
